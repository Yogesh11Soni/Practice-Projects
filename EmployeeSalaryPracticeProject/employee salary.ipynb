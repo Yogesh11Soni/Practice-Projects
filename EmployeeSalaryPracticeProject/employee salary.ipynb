{
 "cells": [
  {
   "cell_type": "markdown",
   "metadata": {},
   "source": [
    "# Employee Salary"
   ]
  },
  {
   "cell_type": "code",
   "execution_count": 4,
   "metadata": {},
   "outputs": [],
   "source": [
    "#importing warning libraries to avoid any warning message\n",
    "import warnings \n",
    "warnings.simplefilter(\"ignore\")"
   ]
  },
  {
   "cell_type": "markdown",
   "metadata": {},
   "source": [
    "# Loading the dataset"
   ]
  },
  {
   "cell_type": "code",
   "execution_count": 5,
   "metadata": {},
   "outputs": [
    {
     "data": {
      "text/html": [
       "<div>\n",
       "<style scoped>\n",
       "    .dataframe tbody tr th:only-of-type {\n",
       "        vertical-align: middle;\n",
       "    }\n",
       "\n",
       "    .dataframe tbody tr th {\n",
       "        vertical-align: top;\n",
       "    }\n",
       "\n",
       "    .dataframe thead th {\n",
       "        text-align: right;\n",
       "    }\n",
       "</style>\n",
       "<table border=\"1\" class=\"dataframe\">\n",
       "  <thead>\n",
       "    <tr style=\"text-align: right;\">\n",
       "      <th></th>\n",
       "      <th>Emp ID</th>\n",
       "      <th>Name Prefix</th>\n",
       "      <th>First Name</th>\n",
       "      <th>Middle Initial</th>\n",
       "      <th>Last Name</th>\n",
       "      <th>Gender</th>\n",
       "      <th>E Mail</th>\n",
       "      <th>Father's Name</th>\n",
       "      <th>Mother's Name</th>\n",
       "      <th>Mother's Maiden Name</th>\n",
       "      <th>Date of Birth</th>\n",
       "      <th>Time of Birth</th>\n",
       "      <th>Age in Yrs.</th>\n",
       "      <th>Weight in Kgs.</th>\n",
       "      <th>Date of Joining</th>\n",
       "      <th>Quarter of Joining</th>\n",
       "      <th>Half of Joining</th>\n",
       "      <th>Year of Joining</th>\n",
       "      <th>Month of Joining</th>\n",
       "      <th>Month Name of Joining</th>\n",
       "      <th>Short Month</th>\n",
       "      <th>Day of Joining</th>\n",
       "      <th>DOW of Joining</th>\n",
       "      <th>Short DOW</th>\n",
       "      <th>Age in Company (Years)</th>\n",
       "      <th>Salary</th>\n",
       "      <th>Last % Hike</th>\n",
       "      <th>SSN</th>\n",
       "      <th>Phone No.</th>\n",
       "      <th>Place Name</th>\n",
       "      <th>County</th>\n",
       "      <th>City</th>\n",
       "      <th>State</th>\n",
       "      <th>Zip</th>\n",
       "      <th>Region</th>\n",
       "      <th>User Name</th>\n",
       "      <th>Password</th>\n",
       "    </tr>\n",
       "  </thead>\n",
       "  <tbody>\n",
       "    <tr>\n",
       "      <th>0</th>\n",
       "      <td>850297</td>\n",
       "      <td>Ms.</td>\n",
       "      <td>Shawna</td>\n",
       "      <td>W</td>\n",
       "      <td>Buck</td>\n",
       "      <td>F</td>\n",
       "      <td>shawna.buck@gmail.com</td>\n",
       "      <td>Rosario Buck</td>\n",
       "      <td>Keisha Buck</td>\n",
       "      <td>Hendricks</td>\n",
       "      <td>12/12/1971</td>\n",
       "      <td>06:34:47 AM</td>\n",
       "      <td>45.66</td>\n",
       "      <td>44</td>\n",
       "      <td>12/18/2010</td>\n",
       "      <td>Q4</td>\n",
       "      <td>H2</td>\n",
       "      <td>2010</td>\n",
       "      <td>12</td>\n",
       "      <td>December</td>\n",
       "      <td>Dec</td>\n",
       "      <td>18</td>\n",
       "      <td>Saturday</td>\n",
       "      <td>Sat</td>\n",
       "      <td>6.61</td>\n",
       "      <td>119090</td>\n",
       "      <td>17%</td>\n",
       "      <td>222-11-7603</td>\n",
       "      <td>702-771-7149</td>\n",
       "      <td>Las Vegas</td>\n",
       "      <td>Clark</td>\n",
       "      <td>Las Vegas</td>\n",
       "      <td>NV</td>\n",
       "      <td>89128</td>\n",
       "      <td>West</td>\n",
       "      <td>swbuck</td>\n",
       "      <td>ja8?k3BTF^]o@&lt;&amp;</td>\n",
       "    </tr>\n",
       "    <tr>\n",
       "      <th>1</th>\n",
       "      <td>304721</td>\n",
       "      <td>Mr.</td>\n",
       "      <td>Nathaniel</td>\n",
       "      <td>Z</td>\n",
       "      <td>Burke</td>\n",
       "      <td>M</td>\n",
       "      <td>nathaniel.burke@walmart.com</td>\n",
       "      <td>Derrick Burke</td>\n",
       "      <td>Phoebe Burke</td>\n",
       "      <td>Pugh</td>\n",
       "      <td>10/31/1993</td>\n",
       "      <td>02:02:38 AM</td>\n",
       "      <td>23.76</td>\n",
       "      <td>52</td>\n",
       "      <td>4/25/2017</td>\n",
       "      <td>Q2</td>\n",
       "      <td>H1</td>\n",
       "      <td>2017</td>\n",
       "      <td>4</td>\n",
       "      <td>April</td>\n",
       "      <td>Apr</td>\n",
       "      <td>25</td>\n",
       "      <td>Tuesday</td>\n",
       "      <td>Tue</td>\n",
       "      <td>0.26</td>\n",
       "      <td>117991</td>\n",
       "      <td>14%</td>\n",
       "      <td>550-99-9897</td>\n",
       "      <td>231-765-6923</td>\n",
       "      <td>Irons</td>\n",
       "      <td>Lake</td>\n",
       "      <td>Irons</td>\n",
       "      <td>MI</td>\n",
       "      <td>49644</td>\n",
       "      <td>Midwest</td>\n",
       "      <td>nzburke</td>\n",
       "      <td>tPA@4Wh9Ja$+Ln</td>\n",
       "    </tr>\n",
       "    <tr>\n",
       "      <th>2</th>\n",
       "      <td>412317</td>\n",
       "      <td>Drs.</td>\n",
       "      <td>Elisabeth</td>\n",
       "      <td>W</td>\n",
       "      <td>Foster</td>\n",
       "      <td>F</td>\n",
       "      <td>elisabeth.foster@gmail.com</td>\n",
       "      <td>Irwin Foster</td>\n",
       "      <td>Janie Foster</td>\n",
       "      <td>Delaney</td>\n",
       "      <td>11/26/1994</td>\n",
       "      <td>03:48:27 PM</td>\n",
       "      <td>22.68</td>\n",
       "      <td>42</td>\n",
       "      <td>3/27/2017</td>\n",
       "      <td>Q1</td>\n",
       "      <td>H1</td>\n",
       "      <td>2017</td>\n",
       "      <td>3</td>\n",
       "      <td>March</td>\n",
       "      <td>Mar</td>\n",
       "      <td>27</td>\n",
       "      <td>Monday</td>\n",
       "      <td>Mon</td>\n",
       "      <td>0.34</td>\n",
       "      <td>161045</td>\n",
       "      <td>28%</td>\n",
       "      <td>215-91-0004</td>\n",
       "      <td>270-749-4774</td>\n",
       "      <td>Lexington</td>\n",
       "      <td>Fayette</td>\n",
       "      <td>Lexington</td>\n",
       "      <td>KY</td>\n",
       "      <td>40501</td>\n",
       "      <td>South</td>\n",
       "      <td>ewfoster</td>\n",
       "      <td>5D.B4IGNkWJfG&lt;~</td>\n",
       "    </tr>\n",
       "    <tr>\n",
       "      <th>3</th>\n",
       "      <td>621375</td>\n",
       "      <td>Mrs.</td>\n",
       "      <td>Briana</td>\n",
       "      <td>C</td>\n",
       "      <td>Lancaster</td>\n",
       "      <td>F</td>\n",
       "      <td>briana.lancaster@yahoo.com</td>\n",
       "      <td>Jeffrey Lancaster</td>\n",
       "      <td>Shelby Lancaster</td>\n",
       "      <td>Weiss</td>\n",
       "      <td>11/24/1975</td>\n",
       "      <td>09:44:16 PM</td>\n",
       "      <td>41.70</td>\n",
       "      <td>43</td>\n",
       "      <td>2/25/2003</td>\n",
       "      <td>Q1</td>\n",
       "      <td>H1</td>\n",
       "      <td>2003</td>\n",
       "      <td>2</td>\n",
       "      <td>February</td>\n",
       "      <td>Feb</td>\n",
       "      <td>25</td>\n",
       "      <td>Tuesday</td>\n",
       "      <td>Tue</td>\n",
       "      <td>14.43</td>\n",
       "      <td>142616</td>\n",
       "      <td>16%</td>\n",
       "      <td>534-71-1053</td>\n",
       "      <td>219-623-8216</td>\n",
       "      <td>Munster</td>\n",
       "      <td>Lake</td>\n",
       "      <td>Munster</td>\n",
       "      <td>IN</td>\n",
       "      <td>46321</td>\n",
       "      <td>Midwest</td>\n",
       "      <td>bclancaster</td>\n",
       "      <td>I%?JDM;pW</td>\n",
       "    </tr>\n",
       "    <tr>\n",
       "      <th>4</th>\n",
       "      <td>787549</td>\n",
       "      <td>Hon.</td>\n",
       "      <td>Estella</td>\n",
       "      <td>L</td>\n",
       "      <td>Potter</td>\n",
       "      <td>F</td>\n",
       "      <td>estella.potter@gmail.com</td>\n",
       "      <td>Booker Potter</td>\n",
       "      <td>Katelyn Potter</td>\n",
       "      <td>Pate</td>\n",
       "      <td>3/13/1995</td>\n",
       "      <td>09:30:28 PM</td>\n",
       "      <td>22.39</td>\n",
       "      <td>58</td>\n",
       "      <td>10/11/2016</td>\n",
       "      <td>Q4</td>\n",
       "      <td>H2</td>\n",
       "      <td>2016</td>\n",
       "      <td>10</td>\n",
       "      <td>October</td>\n",
       "      <td>Oct</td>\n",
       "      <td>11</td>\n",
       "      <td>Tuesday</td>\n",
       "      <td>Tue</td>\n",
       "      <td>0.79</td>\n",
       "      <td>135706</td>\n",
       "      <td>11%</td>\n",
       "      <td>644-29-6396</td>\n",
       "      <td>907-677-8486</td>\n",
       "      <td>Fairbanks</td>\n",
       "      <td>Fairbanks North Star</td>\n",
       "      <td>Fairbanks</td>\n",
       "      <td>AK</td>\n",
       "      <td>99709</td>\n",
       "      <td>West</td>\n",
       "      <td>elpotter</td>\n",
       "      <td>j4jkEXfC&amp;Rh</td>\n",
       "    </tr>\n",
       "    <tr>\n",
       "      <th>...</th>\n",
       "      <td>...</td>\n",
       "      <td>...</td>\n",
       "      <td>...</td>\n",
       "      <td>...</td>\n",
       "      <td>...</td>\n",
       "      <td>...</td>\n",
       "      <td>...</td>\n",
       "      <td>...</td>\n",
       "      <td>...</td>\n",
       "      <td>...</td>\n",
       "      <td>...</td>\n",
       "      <td>...</td>\n",
       "      <td>...</td>\n",
       "      <td>...</td>\n",
       "      <td>...</td>\n",
       "      <td>...</td>\n",
       "      <td>...</td>\n",
       "      <td>...</td>\n",
       "      <td>...</td>\n",
       "      <td>...</td>\n",
       "      <td>...</td>\n",
       "      <td>...</td>\n",
       "      <td>...</td>\n",
       "      <td>...</td>\n",
       "      <td>...</td>\n",
       "      <td>...</td>\n",
       "      <td>...</td>\n",
       "      <td>...</td>\n",
       "      <td>...</td>\n",
       "      <td>...</td>\n",
       "      <td>...</td>\n",
       "      <td>...</td>\n",
       "      <td>...</td>\n",
       "      <td>...</td>\n",
       "      <td>...</td>\n",
       "      <td>...</td>\n",
       "      <td>...</td>\n",
       "    </tr>\n",
       "    <tr>\n",
       "      <th>995</th>\n",
       "      <td>568435</td>\n",
       "      <td>Ms.</td>\n",
       "      <td>Bonnie</td>\n",
       "      <td>K</td>\n",
       "      <td>Baker</td>\n",
       "      <td>F</td>\n",
       "      <td>bonnie.baker@bp.com</td>\n",
       "      <td>Edwardo Baker</td>\n",
       "      <td>Pauline Baker</td>\n",
       "      <td>Robinson</td>\n",
       "      <td>8/3/1985</td>\n",
       "      <td>12:06:26 PM</td>\n",
       "      <td>32.01</td>\n",
       "      <td>59</td>\n",
       "      <td>1/7/2008</td>\n",
       "      <td>Q1</td>\n",
       "      <td>H1</td>\n",
       "      <td>2008</td>\n",
       "      <td>1</td>\n",
       "      <td>January</td>\n",
       "      <td>Jan</td>\n",
       "      <td>7</td>\n",
       "      <td>Monday</td>\n",
       "      <td>Mon</td>\n",
       "      <td>9.56</td>\n",
       "      <td>72930</td>\n",
       "      <td>10%</td>\n",
       "      <td>064-02-6162</td>\n",
       "      <td>262-696-9171</td>\n",
       "      <td>Mukwonago</td>\n",
       "      <td>Waukesha</td>\n",
       "      <td>Mukwonago</td>\n",
       "      <td>WI</td>\n",
       "      <td>53149</td>\n",
       "      <td>Midwest</td>\n",
       "      <td>bkbaker</td>\n",
       "      <td>a?Co:/r;nu_wTQ</td>\n",
       "    </tr>\n",
       "    <tr>\n",
       "      <th>996</th>\n",
       "      <td>597409</td>\n",
       "      <td>Mr.</td>\n",
       "      <td>Luke</td>\n",
       "      <td>S</td>\n",
       "      <td>Turner</td>\n",
       "      <td>M</td>\n",
       "      <td>luke.turner@charter.net</td>\n",
       "      <td>Javier Turner</td>\n",
       "      <td>Nicole Turner</td>\n",
       "      <td>Sykes</td>\n",
       "      <td>2/12/1987</td>\n",
       "      <td>02:49:18 PM</td>\n",
       "      <td>30.48</td>\n",
       "      <td>84</td>\n",
       "      <td>3/5/2010</td>\n",
       "      <td>Q1</td>\n",
       "      <td>H1</td>\n",
       "      <td>2010</td>\n",
       "      <td>3</td>\n",
       "      <td>March</td>\n",
       "      <td>Mar</td>\n",
       "      <td>5</td>\n",
       "      <td>Friday</td>\n",
       "      <td>Fri</td>\n",
       "      <td>7.40</td>\n",
       "      <td>121949</td>\n",
       "      <td>16%</td>\n",
       "      <td>056-02-8240</td>\n",
       "      <td>231-629-0498</td>\n",
       "      <td>Freeport</td>\n",
       "      <td>Barry</td>\n",
       "      <td>Freeport</td>\n",
       "      <td>MI</td>\n",
       "      <td>49325</td>\n",
       "      <td>Midwest</td>\n",
       "      <td>lsturner</td>\n",
       "      <td>7n5@64VC7|</td>\n",
       "    </tr>\n",
       "    <tr>\n",
       "      <th>997</th>\n",
       "      <td>359608</td>\n",
       "      <td>Hon.</td>\n",
       "      <td>Eva</td>\n",
       "      <td>S</td>\n",
       "      <td>Holman</td>\n",
       "      <td>F</td>\n",
       "      <td>eva.holman@hotmail.com</td>\n",
       "      <td>Coy Holman</td>\n",
       "      <td>Haley Holman</td>\n",
       "      <td>Boyle</td>\n",
       "      <td>9/26/1957</td>\n",
       "      <td>12:46:23 PM</td>\n",
       "      <td>59.88</td>\n",
       "      <td>50</td>\n",
       "      <td>2/20/2001</td>\n",
       "      <td>Q1</td>\n",
       "      <td>H1</td>\n",
       "      <td>2001</td>\n",
       "      <td>2</td>\n",
       "      <td>February</td>\n",
       "      <td>Feb</td>\n",
       "      <td>20</td>\n",
       "      <td>Tuesday</td>\n",
       "      <td>Tue</td>\n",
       "      <td>16.44</td>\n",
       "      <td>82734</td>\n",
       "      <td>14%</td>\n",
       "      <td>343-11-1935</td>\n",
       "      <td>209-912-6705</td>\n",
       "      <td>Turlock</td>\n",
       "      <td>Stanislaus</td>\n",
       "      <td>Turlock</td>\n",
       "      <td>CA</td>\n",
       "      <td>95381</td>\n",
       "      <td>West</td>\n",
       "      <td>esholman</td>\n",
       "      <td>DG&lt;&lt;&lt;e}*WgD&lt;U</td>\n",
       "    </tr>\n",
       "    <tr>\n",
       "      <th>998</th>\n",
       "      <td>803426</td>\n",
       "      <td>Mrs.</td>\n",
       "      <td>Maritza</td>\n",
       "      <td>H</td>\n",
       "      <td>Christian</td>\n",
       "      <td>F</td>\n",
       "      <td>maritza.christian@microsoft.com</td>\n",
       "      <td>Dion Christian</td>\n",
       "      <td>Stephanie Christian</td>\n",
       "      <td>Mooney</td>\n",
       "      <td>5/19/1987</td>\n",
       "      <td>05:03:13 AM</td>\n",
       "      <td>30.21</td>\n",
       "      <td>48</td>\n",
       "      <td>3/15/2012</td>\n",
       "      <td>Q1</td>\n",
       "      <td>H1</td>\n",
       "      <td>2012</td>\n",
       "      <td>3</td>\n",
       "      <td>March</td>\n",
       "      <td>Mar</td>\n",
       "      <td>15</td>\n",
       "      <td>Thursday</td>\n",
       "      <td>Thu</td>\n",
       "      <td>5.37</td>\n",
       "      <td>66854</td>\n",
       "      <td>9%</td>\n",
       "      <td>336-11-5030</td>\n",
       "      <td>203-224-9056</td>\n",
       "      <td>Stamford</td>\n",
       "      <td>Fairfield</td>\n",
       "      <td>Stamford</td>\n",
       "      <td>CT</td>\n",
       "      <td>6910</td>\n",
       "      <td>Northeast</td>\n",
       "      <td>mhchristian</td>\n",
       "      <td>Krs@#TnM</td>\n",
       "    </tr>\n",
       "    <tr>\n",
       "      <th>999</th>\n",
       "      <td>669618</td>\n",
       "      <td>Drs.</td>\n",
       "      <td>Phyllis</td>\n",
       "      <td>H</td>\n",
       "      <td>Dudley</td>\n",
       "      <td>F</td>\n",
       "      <td>phyllis.dudley@yahoo.co.in</td>\n",
       "      <td>Jarrod Dudley</td>\n",
       "      <td>Latisha Dudley</td>\n",
       "      <td>Wilcox</td>\n",
       "      <td>11/2/1957</td>\n",
       "      <td>06:16:49 PM</td>\n",
       "      <td>59.78</td>\n",
       "      <td>56</td>\n",
       "      <td>1/17/1980</td>\n",
       "      <td>Q1</td>\n",
       "      <td>H1</td>\n",
       "      <td>1980</td>\n",
       "      <td>1</td>\n",
       "      <td>January</td>\n",
       "      <td>Jan</td>\n",
       "      <td>17</td>\n",
       "      <td>Thursday</td>\n",
       "      <td>Thu</td>\n",
       "      <td>37.55</td>\n",
       "      <td>105069</td>\n",
       "      <td>6%</td>\n",
       "      <td>101-02-6501</td>\n",
       "      <td>405-970-2341</td>\n",
       "      <td>Meno</td>\n",
       "      <td>Major</td>\n",
       "      <td>Meno</td>\n",
       "      <td>OK</td>\n",
       "      <td>73760</td>\n",
       "      <td>South</td>\n",
       "      <td>phdudley</td>\n",
       "      <td>h6wt@400%&amp;Uu</td>\n",
       "    </tr>\n",
       "  </tbody>\n",
       "</table>\n",
       "<p>1000 rows × 37 columns</p>\n",
       "</div>"
      ],
      "text/plain": [
       "     Emp ID Name Prefix First Name Middle Initial  Last Name Gender  \\\n",
       "0    850297         Ms.     Shawna              W       Buck      F   \n",
       "1    304721         Mr.  Nathaniel              Z      Burke      M   \n",
       "2    412317        Drs.  Elisabeth              W     Foster      F   \n",
       "3    621375        Mrs.     Briana              C  Lancaster      F   \n",
       "4    787549        Hon.    Estella              L     Potter      F   \n",
       "..      ...         ...        ...            ...        ...    ...   \n",
       "995  568435         Ms.     Bonnie              K      Baker      F   \n",
       "996  597409         Mr.       Luke              S     Turner      M   \n",
       "997  359608        Hon.        Eva              S     Holman      F   \n",
       "998  803426        Mrs.    Maritza              H  Christian      F   \n",
       "999  669618        Drs.    Phyllis              H     Dudley      F   \n",
       "\n",
       "                              E Mail      Father's Name        Mother's Name  \\\n",
       "0              shawna.buck@gmail.com       Rosario Buck          Keisha Buck   \n",
       "1        nathaniel.burke@walmart.com      Derrick Burke         Phoebe Burke   \n",
       "2         elisabeth.foster@gmail.com       Irwin Foster         Janie Foster   \n",
       "3         briana.lancaster@yahoo.com  Jeffrey Lancaster     Shelby Lancaster   \n",
       "4           estella.potter@gmail.com      Booker Potter       Katelyn Potter   \n",
       "..                               ...                ...                  ...   \n",
       "995              bonnie.baker@bp.com      Edwardo Baker        Pauline Baker   \n",
       "996          luke.turner@charter.net      Javier Turner        Nicole Turner   \n",
       "997           eva.holman@hotmail.com         Coy Holman         Haley Holman   \n",
       "998  maritza.christian@microsoft.com     Dion Christian  Stephanie Christian   \n",
       "999       phyllis.dudley@yahoo.co.in      Jarrod Dudley       Latisha Dudley   \n",
       "\n",
       "    Mother's Maiden Name Date of Birth Time of Birth  Age in Yrs.  \\\n",
       "0              Hendricks    12/12/1971   06:34:47 AM        45.66   \n",
       "1                   Pugh    10/31/1993   02:02:38 AM        23.76   \n",
       "2                Delaney    11/26/1994   03:48:27 PM        22.68   \n",
       "3                  Weiss    11/24/1975   09:44:16 PM        41.70   \n",
       "4                   Pate     3/13/1995   09:30:28 PM        22.39   \n",
       "..                   ...           ...           ...          ...   \n",
       "995             Robinson      8/3/1985   12:06:26 PM        32.01   \n",
       "996                Sykes     2/12/1987   02:49:18 PM        30.48   \n",
       "997                Boyle     9/26/1957   12:46:23 PM        59.88   \n",
       "998               Mooney     5/19/1987   05:03:13 AM        30.21   \n",
       "999               Wilcox     11/2/1957   06:16:49 PM        59.78   \n",
       "\n",
       "     Weight in Kgs. Date of Joining Quarter of Joining Half of Joining  \\\n",
       "0                44      12/18/2010                 Q4              H2   \n",
       "1                52       4/25/2017                 Q2              H1   \n",
       "2                42       3/27/2017                 Q1              H1   \n",
       "3                43       2/25/2003                 Q1              H1   \n",
       "4                58      10/11/2016                 Q4              H2   \n",
       "..              ...             ...                ...             ...   \n",
       "995              59        1/7/2008                 Q1              H1   \n",
       "996              84        3/5/2010                 Q1              H1   \n",
       "997              50       2/20/2001                 Q1              H1   \n",
       "998              48       3/15/2012                 Q1              H1   \n",
       "999              56       1/17/1980                 Q1              H1   \n",
       "\n",
       "     Year of Joining  Month of Joining Month Name of Joining Short Month  \\\n",
       "0               2010                12              December         Dec   \n",
       "1               2017                 4                 April         Apr   \n",
       "2               2017                 3                 March         Mar   \n",
       "3               2003                 2              February         Feb   \n",
       "4               2016                10               October         Oct   \n",
       "..               ...               ...                   ...         ...   \n",
       "995             2008                 1               January         Jan   \n",
       "996             2010                 3                 March         Mar   \n",
       "997             2001                 2              February         Feb   \n",
       "998             2012                 3                 March         Mar   \n",
       "999             1980                 1               January         Jan   \n",
       "\n",
       "     Day of Joining DOW of Joining Short DOW  Age in Company (Years)  Salary  \\\n",
       "0                18       Saturday       Sat                    6.61  119090   \n",
       "1                25        Tuesday       Tue                    0.26  117991   \n",
       "2                27         Monday       Mon                    0.34  161045   \n",
       "3                25        Tuesday       Tue                   14.43  142616   \n",
       "4                11        Tuesday       Tue                    0.79  135706   \n",
       "..              ...            ...       ...                     ...     ...   \n",
       "995               7         Monday       Mon                    9.56   72930   \n",
       "996               5         Friday       Fri                    7.40  121949   \n",
       "997              20        Tuesday       Tue                   16.44   82734   \n",
       "998              15       Thursday       Thu                    5.37   66854   \n",
       "999              17       Thursday       Thu                   37.55  105069   \n",
       "\n",
       "    Last % Hike          SSN    Phone No.  Place Name                County  \\\n",
       "0           17%  222-11-7603  702-771-7149  Las Vegas                 Clark   \n",
       "1           14%  550-99-9897  231-765-6923      Irons                  Lake   \n",
       "2           28%  215-91-0004  270-749-4774  Lexington               Fayette   \n",
       "3           16%  534-71-1053  219-623-8216    Munster                  Lake   \n",
       "4           11%  644-29-6396  907-677-8486  Fairbanks  Fairbanks North Star   \n",
       "..          ...          ...           ...        ...                   ...   \n",
       "995         10%  064-02-6162  262-696-9171  Mukwonago              Waukesha   \n",
       "996         16%  056-02-8240  231-629-0498   Freeport                 Barry   \n",
       "997         14%  343-11-1935  209-912-6705    Turlock            Stanislaus   \n",
       "998          9%  336-11-5030  203-224-9056   Stamford             Fairfield   \n",
       "999          6%  101-02-6501  405-970-2341       Meno                 Major   \n",
       "\n",
       "          City State    Zip     Region    User Name         Password  \n",
       "0    Las Vegas    NV  89128       West       swbuck  ja8?k3BTF^]o@<&  \n",
       "1        Irons    MI  49644    Midwest      nzburke   tPA@4Wh9Ja$+Ln  \n",
       "2    Lexington    KY  40501      South     ewfoster  5D.B4IGNkWJfG<~  \n",
       "3      Munster    IN  46321    Midwest  bclancaster        I%?JDM;pW  \n",
       "4    Fairbanks    AK  99709       West     elpotter      j4jkEXfC&Rh  \n",
       "..         ...   ...    ...        ...          ...              ...  \n",
       "995  Mukwonago    WI  53149    Midwest      bkbaker   a?Co:/r;nu_wTQ  \n",
       "996   Freeport    MI  49325    Midwest     lsturner       7n5@64VC7|  \n",
       "997    Turlock    CA  95381       West     esholman    DG<<<e}*WgD<U  \n",
       "998   Stamford    CT   6910  Northeast  mhchristian         Krs@#TnM  \n",
       "999       Meno    OK  73760      South     phdudley     h6wt@400%&Uu  \n",
       "\n",
       "[1000 rows x 37 columns]"
      ]
     },
     "execution_count": 5,
     "metadata": {},
     "output_type": "execute_result"
    }
   ],
   "source": [
    "import pandas as pd\n",
    "df=pd.read_csv(\"Employee_1000_Records.csv\")\n",
    "pd.options.display.max_columns = None\n",
    "df\n"
   ]
  },
  {
   "cell_type": "code",
   "execution_count": 6,
   "metadata": {},
   "outputs": [],
   "source": [
    "data=df\n",
    "df_new=pd.DataFrame(data) \n",
    "df=df[[\"Age in Yrs.\",\"Age in Company (Years)\",\"Salary\",\"Gender\"]]\n"
   ]
  },
  {
   "cell_type": "code",
   "execution_count": 7,
   "metadata": {},
   "outputs": [
    {
     "data": {
      "text/html": [
       "<div>\n",
       "<style scoped>\n",
       "    .dataframe tbody tr th:only-of-type {\n",
       "        vertical-align: middle;\n",
       "    }\n",
       "\n",
       "    .dataframe tbody tr th {\n",
       "        vertical-align: top;\n",
       "    }\n",
       "\n",
       "    .dataframe thead th {\n",
       "        text-align: right;\n",
       "    }\n",
       "</style>\n",
       "<table border=\"1\" class=\"dataframe\">\n",
       "  <thead>\n",
       "    <tr style=\"text-align: right;\">\n",
       "      <th></th>\n",
       "      <th>Age in Yrs.</th>\n",
       "      <th>Age in Company (Years)</th>\n",
       "      <th>Salary</th>\n",
       "      <th>Gender</th>\n",
       "    </tr>\n",
       "  </thead>\n",
       "  <tbody>\n",
       "    <tr>\n",
       "      <th>0</th>\n",
       "      <td>45.66</td>\n",
       "      <td>6.61</td>\n",
       "      <td>119090</td>\n",
       "      <td>F</td>\n",
       "    </tr>\n",
       "    <tr>\n",
       "      <th>1</th>\n",
       "      <td>23.76</td>\n",
       "      <td>0.26</td>\n",
       "      <td>117991</td>\n",
       "      <td>M</td>\n",
       "    </tr>\n",
       "    <tr>\n",
       "      <th>2</th>\n",
       "      <td>22.68</td>\n",
       "      <td>0.34</td>\n",
       "      <td>161045</td>\n",
       "      <td>F</td>\n",
       "    </tr>\n",
       "    <tr>\n",
       "      <th>3</th>\n",
       "      <td>41.70</td>\n",
       "      <td>14.43</td>\n",
       "      <td>142616</td>\n",
       "      <td>F</td>\n",
       "    </tr>\n",
       "    <tr>\n",
       "      <th>4</th>\n",
       "      <td>22.39</td>\n",
       "      <td>0.79</td>\n",
       "      <td>135706</td>\n",
       "      <td>F</td>\n",
       "    </tr>\n",
       "    <tr>\n",
       "      <th>...</th>\n",
       "      <td>...</td>\n",
       "      <td>...</td>\n",
       "      <td>...</td>\n",
       "      <td>...</td>\n",
       "    </tr>\n",
       "    <tr>\n",
       "      <th>995</th>\n",
       "      <td>32.01</td>\n",
       "      <td>9.56</td>\n",
       "      <td>72930</td>\n",
       "      <td>F</td>\n",
       "    </tr>\n",
       "    <tr>\n",
       "      <th>996</th>\n",
       "      <td>30.48</td>\n",
       "      <td>7.40</td>\n",
       "      <td>121949</td>\n",
       "      <td>M</td>\n",
       "    </tr>\n",
       "    <tr>\n",
       "      <th>997</th>\n",
       "      <td>59.88</td>\n",
       "      <td>16.44</td>\n",
       "      <td>82734</td>\n",
       "      <td>F</td>\n",
       "    </tr>\n",
       "    <tr>\n",
       "      <th>998</th>\n",
       "      <td>30.21</td>\n",
       "      <td>5.37</td>\n",
       "      <td>66854</td>\n",
       "      <td>F</td>\n",
       "    </tr>\n",
       "    <tr>\n",
       "      <th>999</th>\n",
       "      <td>59.78</td>\n",
       "      <td>37.55</td>\n",
       "      <td>105069</td>\n",
       "      <td>F</td>\n",
       "    </tr>\n",
       "  </tbody>\n",
       "</table>\n",
       "<p>1000 rows × 4 columns</p>\n",
       "</div>"
      ],
      "text/plain": [
       "     Age in Yrs.  Age in Company (Years)  Salary Gender\n",
       "0          45.66                    6.61  119090      F\n",
       "1          23.76                    0.26  117991      M\n",
       "2          22.68                    0.34  161045      F\n",
       "3          41.70                   14.43  142616      F\n",
       "4          22.39                    0.79  135706      F\n",
       "..           ...                     ...     ...    ...\n",
       "995        32.01                    9.56   72930      F\n",
       "996        30.48                    7.40  121949      M\n",
       "997        59.88                   16.44   82734      F\n",
       "998        30.21                    5.37   66854      F\n",
       "999        59.78                   37.55  105069      F\n",
       "\n",
       "[1000 rows x 4 columns]"
      ]
     },
     "execution_count": 7,
     "metadata": {},
     "output_type": "execute_result"
    }
   ],
   "source": [
    "df"
   ]
  },
  {
   "cell_type": "code",
   "execution_count": 8,
   "metadata": {},
   "outputs": [
    {
     "data": {
      "text/html": [
       "<div>\n",
       "<style scoped>\n",
       "    .dataframe tbody tr th:only-of-type {\n",
       "        vertical-align: middle;\n",
       "    }\n",
       "\n",
       "    .dataframe tbody tr th {\n",
       "        vertical-align: top;\n",
       "    }\n",
       "\n",
       "    .dataframe thead th {\n",
       "        text-align: right;\n",
       "    }\n",
       "</style>\n",
       "<table border=\"1\" class=\"dataframe\">\n",
       "  <thead>\n",
       "    <tr style=\"text-align: right;\">\n",
       "      <th></th>\n",
       "      <th>Age</th>\n",
       "      <th>Age IC</th>\n",
       "      <th>Salary</th>\n",
       "      <th>Gender</th>\n",
       "    </tr>\n",
       "  </thead>\n",
       "  <tbody>\n",
       "    <tr>\n",
       "      <th>0</th>\n",
       "      <td>45.66</td>\n",
       "      <td>6.61</td>\n",
       "      <td>119090</td>\n",
       "      <td>F</td>\n",
       "    </tr>\n",
       "    <tr>\n",
       "      <th>1</th>\n",
       "      <td>23.76</td>\n",
       "      <td>0.26</td>\n",
       "      <td>117991</td>\n",
       "      <td>M</td>\n",
       "    </tr>\n",
       "    <tr>\n",
       "      <th>2</th>\n",
       "      <td>22.68</td>\n",
       "      <td>0.34</td>\n",
       "      <td>161045</td>\n",
       "      <td>F</td>\n",
       "    </tr>\n",
       "    <tr>\n",
       "      <th>3</th>\n",
       "      <td>41.70</td>\n",
       "      <td>14.43</td>\n",
       "      <td>142616</td>\n",
       "      <td>F</td>\n",
       "    </tr>\n",
       "    <tr>\n",
       "      <th>4</th>\n",
       "      <td>22.39</td>\n",
       "      <td>0.79</td>\n",
       "      <td>135706</td>\n",
       "      <td>F</td>\n",
       "    </tr>\n",
       "  </tbody>\n",
       "</table>\n",
       "</div>"
      ],
      "text/plain": [
       "     Age  Age IC  Salary Gender\n",
       "0  45.66    6.61  119090      F\n",
       "1  23.76    0.26  117991      M\n",
       "2  22.68    0.34  161045      F\n",
       "3  41.70   14.43  142616      F\n",
       "4  22.39    0.79  135706      F"
      ]
     },
     "execution_count": 8,
     "metadata": {},
     "output_type": "execute_result"
    }
   ],
   "source": [
    "#Renaming column names to bit easier terms ( not compulsary ...just for convinience)\n",
    "df=df.rename(columns={'Age in Yrs.':'Age','Age in Company (Years)':'Age IC'})\n",
    "df.head()"
   ]
  },
  {
   "cell_type": "code",
   "execution_count": 9,
   "metadata": {},
   "outputs": [
    {
     "data": {
      "text/html": [
       "<div>\n",
       "<style scoped>\n",
       "    .dataframe tbody tr th:only-of-type {\n",
       "        vertical-align: middle;\n",
       "    }\n",
       "\n",
       "    .dataframe tbody tr th {\n",
       "        vertical-align: top;\n",
       "    }\n",
       "\n",
       "    .dataframe thead th {\n",
       "        text-align: right;\n",
       "    }\n",
       "</style>\n",
       "<table border=\"1\" class=\"dataframe\">\n",
       "  <thead>\n",
       "    <tr style=\"text-align: right;\">\n",
       "      <th></th>\n",
       "      <th>Age</th>\n",
       "      <th>Age IC</th>\n",
       "      <th>Salary</th>\n",
       "      <th>Gender</th>\n",
       "    </tr>\n",
       "  </thead>\n",
       "  <tbody>\n",
       "    <tr>\n",
       "      <th>0</th>\n",
       "      <td>45.66</td>\n",
       "      <td>6.61</td>\n",
       "      <td>119090</td>\n",
       "      <td>0</td>\n",
       "    </tr>\n",
       "    <tr>\n",
       "      <th>1</th>\n",
       "      <td>23.76</td>\n",
       "      <td>0.26</td>\n",
       "      <td>117991</td>\n",
       "      <td>1</td>\n",
       "    </tr>\n",
       "    <tr>\n",
       "      <th>2</th>\n",
       "      <td>22.68</td>\n",
       "      <td>0.34</td>\n",
       "      <td>161045</td>\n",
       "      <td>0</td>\n",
       "    </tr>\n",
       "    <tr>\n",
       "      <th>3</th>\n",
       "      <td>41.70</td>\n",
       "      <td>14.43</td>\n",
       "      <td>142616</td>\n",
       "      <td>0</td>\n",
       "    </tr>\n",
       "    <tr>\n",
       "      <th>4</th>\n",
       "      <td>22.39</td>\n",
       "      <td>0.79</td>\n",
       "      <td>135706</td>\n",
       "      <td>0</td>\n",
       "    </tr>\n",
       "  </tbody>\n",
       "</table>\n",
       "</div>"
      ],
      "text/plain": [
       "     Age  Age IC  Salary  Gender\n",
       "0  45.66    6.61  119090       0\n",
       "1  23.76    0.26  117991       1\n",
       "2  22.68    0.34  161045       0\n",
       "3  41.70   14.43  142616       0\n",
       "4  22.39    0.79  135706       0"
      ]
     },
     "execution_count": 9,
     "metadata": {},
     "output_type": "execute_result"
    }
   ],
   "source": [
    "from sklearn.preprocessing import LabelEncoder\n",
    "le=LabelEncoder()\n",
    "\n",
    "df['Gender']=le.fit_transform(df['Gender'])\n",
    "df['Gender']\n",
    "df.head()"
   ]
  },
  {
   "cell_type": "code",
   "execution_count": 10,
   "metadata": {},
   "outputs": [
    {
     "data": {
      "text/plain": [
       "(1000, 4)"
      ]
     },
     "execution_count": 10,
     "metadata": {},
     "output_type": "execute_result"
    }
   ],
   "source": [
    "df.shape"
   ]
  },
  {
   "cell_type": "code",
   "execution_count": 11,
   "metadata": {},
   "outputs": [
    {
     "data": {
      "text/html": [
       "<div>\n",
       "<style scoped>\n",
       "    .dataframe tbody tr th:only-of-type {\n",
       "        vertical-align: middle;\n",
       "    }\n",
       "\n",
       "    .dataframe tbody tr th {\n",
       "        vertical-align: top;\n",
       "    }\n",
       "\n",
       "    .dataframe thead th {\n",
       "        text-align: right;\n",
       "    }\n",
       "</style>\n",
       "<table border=\"1\" class=\"dataframe\">\n",
       "  <thead>\n",
       "    <tr style=\"text-align: right;\">\n",
       "      <th></th>\n",
       "      <th>Age</th>\n",
       "      <th>Age IC</th>\n",
       "      <th>Salary</th>\n",
       "      <th>Gender</th>\n",
       "    </tr>\n",
       "  </thead>\n",
       "  <tbody>\n",
       "    <tr>\n",
       "      <th>count</th>\n",
       "      <td>1000.000000</td>\n",
       "      <td>1000.000000</td>\n",
       "      <td>1000.000000</td>\n",
       "      <td>1000.000000</td>\n",
       "    </tr>\n",
       "    <tr>\n",
       "      <th>mean</th>\n",
       "      <td>40.377250</td>\n",
       "      <td>10.093720</td>\n",
       "      <td>120288.528000</td>\n",
       "      <td>0.509000</td>\n",
       "    </tr>\n",
       "    <tr>\n",
       "      <th>std</th>\n",
       "      <td>11.107729</td>\n",
       "      <td>8.568863</td>\n",
       "      <td>45178.339916</td>\n",
       "      <td>0.500169</td>\n",
       "    </tr>\n",
       "    <tr>\n",
       "      <th>min</th>\n",
       "      <td>21.040000</td>\n",
       "      <td>0.000000</td>\n",
       "      <td>40040.000000</td>\n",
       "      <td>0.000000</td>\n",
       "    </tr>\n",
       "    <tr>\n",
       "      <th>25%</th>\n",
       "      <td>30.925000</td>\n",
       "      <td>3.152500</td>\n",
       "      <td>82122.000000</td>\n",
       "      <td>0.000000</td>\n",
       "    </tr>\n",
       "    <tr>\n",
       "      <th>50%</th>\n",
       "      <td>40.730000</td>\n",
       "      <td>7.815000</td>\n",
       "      <td>119409.000000</td>\n",
       "      <td>1.000000</td>\n",
       "    </tr>\n",
       "    <tr>\n",
       "      <th>75%</th>\n",
       "      <td>49.852500</td>\n",
       "      <td>15.465000</td>\n",
       "      <td>159109.000000</td>\n",
       "      <td>1.000000</td>\n",
       "    </tr>\n",
       "    <tr>\n",
       "      <th>max</th>\n",
       "      <td>59.980000</td>\n",
       "      <td>37.570000</td>\n",
       "      <td>199943.000000</td>\n",
       "      <td>1.000000</td>\n",
       "    </tr>\n",
       "  </tbody>\n",
       "</table>\n",
       "</div>"
      ],
      "text/plain": [
       "               Age       Age IC         Salary       Gender\n",
       "count  1000.000000  1000.000000    1000.000000  1000.000000\n",
       "mean     40.377250    10.093720  120288.528000     0.509000\n",
       "std      11.107729     8.568863   45178.339916     0.500169\n",
       "min      21.040000     0.000000   40040.000000     0.000000\n",
       "25%      30.925000     3.152500   82122.000000     0.000000\n",
       "50%      40.730000     7.815000  119409.000000     1.000000\n",
       "75%      49.852500    15.465000  159109.000000     1.000000\n",
       "max      59.980000    37.570000  199943.000000     1.000000"
      ]
     },
     "execution_count": 11,
     "metadata": {},
     "output_type": "execute_result"
    }
   ],
   "source": [
    "df.describe() #statistical summary"
   ]
  },
  {
   "cell_type": "code",
   "execution_count": 12,
   "metadata": {},
   "outputs": [
    {
     "name": "stdout",
     "output_type": "stream",
     "text": [
      "<class 'pandas.core.frame.DataFrame'>\n",
      "RangeIndex: 1000 entries, 0 to 999\n",
      "Data columns (total 4 columns):\n",
      " #   Column  Non-Null Count  Dtype  \n",
      "---  ------  --------------  -----  \n",
      " 0   Age     1000 non-null   float64\n",
      " 1   Age IC  1000 non-null   float64\n",
      " 2   Salary  1000 non-null   int64  \n",
      " 3   Gender  1000 non-null   int32  \n",
      "dtypes: float64(2), int32(1), int64(1)\n",
      "memory usage: 27.5 KB\n"
     ]
    }
   ],
   "source": [
    "df.info() #checking the data type od all the columns"
   ]
  },
  {
   "cell_type": "code",
   "execution_count": 13,
   "metadata": {},
   "outputs": [
    {
     "data": {
      "text/plain": [
       "Age       0\n",
       "Age IC    0\n",
       "Salary    0\n",
       "Gender    0\n",
       "dtype: int64"
      ]
     },
     "execution_count": 13,
     "metadata": {},
     "output_type": "execute_result"
    }
   ],
   "source": [
    "df.isnull().sum()  # checking if null values present in the dataset"
   ]
  },
  {
   "cell_type": "code",
   "execution_count": 14,
   "metadata": {},
   "outputs": [
    {
     "data": {
      "image/png": "[encoded data removed]",
      "text/plain": [
       "<Figure size 432x288 with 1 Axes>"
      ]
     },
     "metadata": {
      "needs_background": "light"
     },
     "output_type": "display_data"
    }
   ],
   "source": [
    "import seaborn as sn\n",
    "import numpy as np\n",
    "import matplotlib.pyplot as plt\n",
    "\n",
    "\n",
    "sn.distplot(df['Salary'])  #checking distribution of the column\n",
    "plt.title(\"Salary\")\n",
    "plt.show()"
   ]
  },
  {
   "cell_type": "code",
   "execution_count": 15,
   "metadata": {},
   "outputs": [
    {
     "data": {
      "image/png": "[encoded data removed]",
      "text/plain": [
       "<Figure size 432x288 with 1 Axes>"
      ]
     },
     "metadata": {
      "needs_background": "light"
     },
     "output_type": "display_data"
    }
   ],
   "source": [
    "sn.distplot(df['Age'])  #checking distribution of the column\n",
    "plt.title(\"Age\")\n",
    "plt.show()"
   ]
  },
  {
   "cell_type": "code",
   "execution_count": 16,
   "metadata": {},
   "outputs": [
    {
     "data": {
      "image/png": "[encoded data removed]",
      "text/plain": [
       "<Figure size 432x288 with 1 Axes>"
      ]
     },
     "metadata": {
      "needs_background": "light"
     },
     "output_type": "display_data"
    }
   ],
   "source": [
    "sn.distplot(df['Age IC'])  #checking distribution of the column\n",
    "plt.title(\"Age IC\")\n",
    "plt.show()"
   ]
  },
  {
   "cell_type": "code",
   "execution_count": 19,
   "metadata": {},
   "outputs": [
    {
     "data": {
      "image/png": "[encoded data removed]",
      "text/plain": [
       "<Figure size 432x288 with 2 Axes>"
      ]
     },
     "metadata": {
      "needs_background": "light"
     },
     "output_type": "display_data"
    }
   ],
   "source": [
    "#Checking corelation using heatmap\n",
    "\n",
    "corr=df.corr()  # df.corr function provides the corelation values of each column \n",
    "sn.heatmap(corr,annot=True) #using heatmap we are ploting correlation values obtained by df.corr function.......\n",
    "#annot=True to put the numbers on the blocks of thr graph \n",
    "plt.show()"
   ]
  },
  {
   "cell_type": "code",
   "execution_count": 22,
   "metadata": {},
   "outputs": [],
   "source": [
    "collist=df.columns.values\n",
    "ncol=4\n",
    "nrows=10\n"
   ]
  },
  {
   "cell_type": "code",
   "execution_count": 24,
   "metadata": {},
   "outputs": [
    {
     "data": {
      "image/png": "[encoded data removed]",
      "text/plain": [
       "<Figure size 288x1440 with 3 Axes>"
      ]
     },
     "metadata": {
      "needs_background": "light"
     },
     "output_type": "display_data"
    }
   ],
   "source": [
    "import seaborn as sns\n",
    "plt.figure(figsize=(ncol,5*ncol))\n",
    "for i in range(1, len(collist)):\n",
    "    plt.subplot(nrows,ncol,i+1)\n",
    "    sns.boxplot(df[collist[i]],color=\"green\",orient=\"v\")\n",
    "    plt.tight_layout()"
   ]
  },
  {
   "cell_type": "code",
   "execution_count": 25,
   "metadata": {},
   "outputs": [],
   "source": [
    "from scipy.stats import zscore\n",
    "import numpy as np\n",
    "z= np.abs(zscore(df))\n",
    "threshold=3\n",
    "new_df=df[(z<3).all(axis=1)]"
   ]
  },
  {
   "cell_type": "code",
   "execution_count": 26,
   "metadata": {},
   "outputs": [
    {
     "name": "stdout",
     "output_type": "stream",
     "text": [
      "original shape=  (1000, 4) \n",
      "New Shape=  (996, 4)\n"
     ]
    }
   ],
   "source": [
    "print(\"original shape= \",df.shape , \"\\nNew Shape= \",new_df.shape)"
   ]
  },
  {
   "cell_type": "code",
   "execution_count": 27,
   "metadata": {},
   "outputs": [
    {
     "data": {
      "text/plain": [
       "Age       0.008064\n",
       "Age IC    0.933414\n",
       "Salary    0.034012\n",
       "Gender   -0.040229\n",
       "dtype: float64"
      ]
     },
     "execution_count": 27,
     "metadata": {},
     "output_type": "execute_result"
    }
   ],
   "source": [
    "#Checking the Skewness (if exists)\n",
    "new_df.skew()"
   ]
  },
  {
   "cell_type": "code",
   "execution_count": 28,
   "metadata": {},
   "outputs": [
    {
     "data": {
      "text/plain": [
       "Age       0.008064\n",
       "Age IC    0.134722\n",
       "Salary    0.034012\n",
       "Gender   -0.040229\n",
       "dtype: float64"
      ]
     },
     "execution_count": 28,
     "metadata": {},
     "output_type": "execute_result"
    }
   ],
   "source": [
    "new_df[\"Age IC\"]=np.sqrt(new_df[\"Age IC\"])\n",
    "new_df.skew()"
   ]
  },
  {
   "cell_type": "code",
   "execution_count": 29,
   "metadata": {},
   "outputs": [
    {
     "data": {
      "text/plain": [
       "(996, 4)"
      ]
     },
     "execution_count": 29,
     "metadata": {},
     "output_type": "execute_result"
    }
   ],
   "source": [
    "new_df.shape"
   ]
  },
  {
   "cell_type": "code",
   "execution_count": 30,
   "metadata": {},
   "outputs": [],
   "source": [
    "#saperated independent and target variables \n",
    "x=new_df.drop(\"Salary\",axis=1)\n",
    "y=new_df[\"Salary\"]  #target variable "
   ]
  },
  {
   "cell_type": "code",
   "execution_count": 31,
   "metadata": {},
   "outputs": [],
   "source": [
    "#scaling the dataset using standardScaler \n",
    "from sklearn.preprocessing import StandardScaler\n",
    "sc=StandardScaler()\n",
    "scaledX=sc.fit_transform(x)"
   ]
  },
  {
   "cell_type": "code",
   "execution_count": 75,
   "metadata": {},
   "outputs": [
    {
     "name": "stdout",
     "output_type": "stream",
     "text": [
      "best accuracy 38.70514214501684 found on random state 167\n"
     ]
    }
   ],
   "source": [
    "#finding best radom state \n",
    "from sklearn.model_selection import train_test_split\n",
    "from sklearn.linear_model import LinearRegression\n",
    "from sklearn.metrics import r2_score\n",
    "\n",
    "best_rstate=0\n",
    "accu=0\n",
    "for i in range (30,200):\n",
    "    x_train,x_test,y_train,y_test=train_test_split(scaledX,y,test_size=4,random_state=i)\n",
    "    mod=LinearRegression()\n",
    "    mod.fit(x_train,y_train)\n",
    "    y_pred=mod.predict(x_test)\n",
    "    tempaccu=r2_score(y_test,y_pred)\n",
    "    if tempaccu>accu:\n",
    "        accu=tempaccu\n",
    "        best_rstate=i\n",
    "        \n",
    "print(f\"best accuracy {accu*100} found on random state {best_rstate}\")\n"
   ]
  },
  {
   "cell_type": "code",
   "execution_count": 76,
   "metadata": {},
   "outputs": [],
   "source": [
    "#creating train_test_split using best random state\n",
    "from sklearn.model_selection import train_test_split\n",
    "x_train,x_test,y_train,y_test=train_test_split(scaledX,y,test_size=4,random_state=167)"
   ]
  },
  {
   "cell_type": "code",
   "execution_count": 77,
   "metadata": {},
   "outputs": [
    {
     "name": "stdout",
     "output_type": "stream",
     "text": [
      "Accuracy= 38.70514214501684, Cross_val_score = -0.3002961849781882 & difference = 39.00543832999503\n"
     ]
    }
   ],
   "source": [
    "from sklearn.linear_model import LinearRegression \n",
    "from sklearn.model_selection import cross_val_score\n",
    "LR=LinearRegression()\n",
    "LR.fit(x_train,y_train)\n",
    "y_pred=LR.predict(x_test)\n",
    "r2score=r2_score(y_test,y_pred)\n",
    "cvscore=cross_val_score(LinearRegression(),x_train,y_train,cv=5).mean()\n",
    "print(f\"Accuracy= {r2score*100}, Cross_val_score = {cvscore*100} & difference = {(r2score*100)-(cvscore*100)}\")"
   ]
  },
  {
   "cell_type": "code",
   "execution_count": 80,
   "metadata": {},
   "outputs": [
    {
     "name": "stdout",
     "output_type": "stream",
     "text": [
      "Accuracy= 32.61893840584561, Cross_val_score = -0.37569351041931487 & difference = 32.99463191626493\n"
     ]
    }
   ],
   "source": [
    "from sklearn.linear_model import SGDRegressor\n",
    "from sklearn.model_selection import cross_val_score\n",
    "SGD=SGDRegressor()\n",
    "SGD.fit(x_train,y_train)\n",
    "y_pred=SGD.predict(x_test)\n",
    "r2score=r2_score(y_test,y_pred)\n",
    "cvscore=cross_val_score(SGDRegressor(),x_train,y_train,cv=5).mean()\n",
    "print(f\"Accuracy= {r2score*100}, Cross_val_score = {cvscore*100} & difference = {(r2score*100)-(cvscore*100)}\")"
   ]
  },
  {
   "cell_type": "code",
   "execution_count": 99,
   "metadata": {},
   "outputs": [
    {
     "data": {
      "text/plain": [
       "['EmployeeSalary.pkl']"
      ]
     },
     "execution_count": 99,
     "metadata": {},
     "output_type": "execute_result"
    }
   ],
   "source": [
    "import joblib\n",
    "joblib.dump(LinearRegression,\"EmployeeSalary.pkl\")"
   ]
  },
  {
   "cell_type": "code",
   "execution_count": 100,
   "metadata": {},
   "outputs": [
    {
     "data": {
      "text/plain": [
       "sklearn.linear_model._base.LinearRegression"
      ]
     },
     "execution_count": 100,
     "metadata": {},
     "output_type": "execute_result"
    }
   ],
   "source": [
    "joblib.load(\"EmployeeSalary.pkl\")"
   ]
  },
  {
   "cell_type": "code",
   "execution_count": null,
   "metadata": {},
   "outputs": [],
   "source": []
  }
 ],
 "metadata": {
  "kernelspec": {
   "display_name": "Python 3",
   "language": "python",
   "name": "python3"
  },
  "language_info": {
   "codemirror_mode": {
    "name": "ipython",
    "version": 3
   },
   "file_extension": ".py",
   "mimetype": "text/x-python",
   "name": "python",
   "nbconvert_exporter": "python",
   "pygments_lexer": "ipython3",
   "version": "3.8.3"
  }
 },
 "nbformat": 4,
 "nbformat_minor": 4
}
